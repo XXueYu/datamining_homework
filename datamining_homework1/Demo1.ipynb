{
 "cells": [
  {
   "cell_type": "markdown",
   "metadata": {},
   "source": [
    "### 数据集：oakland-crime-statistics-2011-to-2016"
   ]
  },
  {
   "cell_type": "code",
   "execution_count": 2,
   "metadata": {},
   "outputs": [
    {
     "data": {
      "text/html": [
       "<div>\n",
       "<style scoped>\n",
       "    .dataframe tbody tr th:only-of-type {\n",
       "        vertical-align: middle;\n",
       "    }\n",
       "\n",
       "    .dataframe tbody tr th {\n",
       "        vertical-align: top;\n",
       "    }\n",
       "\n",
       "    .dataframe thead th {\n",
       "        text-align: right;\n",
       "    }\n",
       "</style>\n",
       "<table border=\"1\" class=\"dataframe\">\n",
       "  <thead>\n",
       "    <tr style=\"text-align: right;\">\n",
       "      <th></th>\n",
       "      <th>Agency</th>\n",
       "      <th>Create Time</th>\n",
       "      <th>Location</th>\n",
       "      <th>Area Id</th>\n",
       "      <th>Beat</th>\n",
       "      <th>Priority</th>\n",
       "      <th>Incident Type Id</th>\n",
       "      <th>Incident Type Description</th>\n",
       "      <th>Event Number</th>\n",
       "      <th>Closed Time</th>\n",
       "    </tr>\n",
       "  </thead>\n",
       "  <tbody>\n",
       "    <tr>\n",
       "      <th>0</th>\n",
       "      <td>OP</td>\n",
       "      <td>2011-01-01T00:00:00.000</td>\n",
       "      <td>ST&amp;SAN PABLO AV</td>\n",
       "      <td>1.0</td>\n",
       "      <td>06X</td>\n",
       "      <td>1.0</td>\n",
       "      <td>PDOA</td>\n",
       "      <td>POSSIBLE DEAD PERSON</td>\n",
       "      <td>LOP110101000001</td>\n",
       "      <td>2011-01-01T00:28:17.000</td>\n",
       "    </tr>\n",
       "    <tr>\n",
       "      <th>1</th>\n",
       "      <td>OP</td>\n",
       "      <td>2011-01-01T00:01:11.000</td>\n",
       "      <td>ST&amp;HANNAH ST</td>\n",
       "      <td>1.0</td>\n",
       "      <td>07X</td>\n",
       "      <td>1.0</td>\n",
       "      <td>415GS</td>\n",
       "      <td>415 GUNSHOTS</td>\n",
       "      <td>LOP110101000002</td>\n",
       "      <td>2011-01-01T01:12:56.000</td>\n",
       "    </tr>\n",
       "    <tr>\n",
       "      <th>2</th>\n",
       "      <td>OP</td>\n",
       "      <td>2011-01-01T00:01:25.000</td>\n",
       "      <td>ST&amp;MARKET ST</td>\n",
       "      <td>1.0</td>\n",
       "      <td>10Y</td>\n",
       "      <td>2.0</td>\n",
       "      <td>415GS</td>\n",
       "      <td>415 GUNSHOTS</td>\n",
       "      <td>LOP110101000003</td>\n",
       "      <td>2011-01-01T00:07:20.000</td>\n",
       "    </tr>\n",
       "  </tbody>\n",
       "</table>\n",
       "</div>"
      ],
      "text/plain": [
       "  Agency              Create Time          Location  Area Id Beat  Priority  \\\n",
       "0     OP  2011-01-01T00:00:00.000   ST&SAN PABLO AV      1.0  06X       1.0   \n",
       "1     OP  2011-01-01T00:01:11.000     ST&HANNAH ST       1.0  07X       1.0   \n",
       "2     OP  2011-01-01T00:01:25.000     ST&MARKET ST       1.0  10Y       2.0   \n",
       "\n",
       "  Incident Type Id Incident Type Description     Event Number  \\\n",
       "0             PDOA      POSSIBLE DEAD PERSON  LOP110101000001   \n",
       "1            415GS              415 GUNSHOTS  LOP110101000002   \n",
       "2            415GS              415 GUNSHOTS  LOP110101000003   \n",
       "\n",
       "               Closed Time  \n",
       "0  2011-01-01T00:28:17.000  \n",
       "1  2011-01-01T01:12:56.000  \n",
       "2  2011-01-01T00:07:20.000  "
      ]
     },
     "execution_count": 2,
     "metadata": {},
     "output_type": "execute_result"
    }
   ],
   "source": [
    "import pandas as pd\n",
    "crime = pd.read_csv('E:\\\\records-for-2011.csv')   #这里注意\\要转义\n",
    "crime[:3]"
   ]
  },
  {
   "cell_type": "code",
   "execution_count": 3,
   "metadata": {},
   "outputs": [
    {
     "data": {
      "text/plain": [
       "Index(['Agency', 'Create Time', 'Location', 'Area Id', 'Beat', 'Priority',\n",
       "       'Incident Type Id', 'Incident Type Description', 'Event Number',\n",
       "       'Closed Time'],\n",
       "      dtype='object')"
      ]
     },
     "execution_count": 3,
     "metadata": {},
     "output_type": "execute_result"
    }
   ],
   "source": [
    "crime.columns"
   ]
  },
  {
   "cell_type": "code",
   "execution_count": 4,
   "metadata": {},
   "outputs": [
    {
     "data": {
      "text/plain": [
       "OP    180015\n",
       "Name: Agency, dtype: int64"
      ]
     },
     "execution_count": 4,
     "metadata": {},
     "output_type": "execute_result"
    }
   ],
   "source": [
    "crime['Agency'].value_counts()"
   ]
  },
  {
   "cell_type": "code",
   "execution_count": 5,
   "metadata": {},
   "outputs": [
    {
     "data": {
      "text/plain": [
       " INTERNATIONAL BLVD              3866\n",
       " MACARTHUR BLVD                  3129\n",
       " AV&INTERNATIONAL BLVD           3067\n",
       " BROADWAY                        2132\n",
       " FOOTHILL BLVD                   1791\n",
       " TELEGRAPH AV                    1584\n",
       " BANCROFT AV                     1319\n",
       " SAN PABLO AV                    1272\n",
       " FRUITVALE AV                    1141\n",
       " 7TH ST                          1093\n",
       " AV&MACARTHUR BLVD               1063\n",
       " ST&BROADWAY                     1025\n",
       " HEGENBERGER RD                  1024\n",
       " HARRISON ST                      990\n",
       " HIGH ST                          987\n",
       " ST&TELEGRAPH AV                  984\n",
       " 73RD AV                          976\n",
       " MARKET ST                        840\n",
       " 14TH ST                          824\n",
       " AV&FOOTHILL BLVD                 761\n",
       " WEBSTER ST                       680\n",
       " W MACARTHUR BLVD                 668\n",
       " AV&BANCROFT AV                   667\n",
       " ST&MARTIN LUTHER KING            666\n",
       " ST&SAN PABLO AV                  664\n",
       " E 18TH ST                        662\n",
       " MARTIN LUTHER KING               626\n",
       " E 12TH ST                        616\n",
       " ST&MARKET ST                     614\n",
       " EDGEWATER DR                     611\n",
       "                                 ... \n",
       "EMBARCADERO 88TH AV                 1\n",
       "51ST HANSOM DR                      1\n",
       "9TH LA SALLE AV                     1\n",
       "EDWARDS SANTA RAY AV                1\n",
       "AILEEN 22ND ST&COOLIDGE AV          1\n",
       "85TH DAVIS ST                       1\n",
       "28TH 16TH AV                        1\n",
       "62ND E 11TH ST                      1\n",
       "63RD AV&EASTLAWN ST                 1\n",
       "57TH WEST&WEBSTER ST                1\n",
       "59TH 54TH ST                        1\n",
       "73RD ST&KELLER AV                   1\n",
       "56TH 73RD AV                        1\n",
       " 1734 37TH AVE                      1\n",
       "CALIFORNIA AV&MACARTHUR BLVD        1\n",
       "E WATER ST                          1\n",
       "GOLF AV&COLLEGE AV                  1\n",
       "34TH ALCATRAZ AV                    1\n",
       " MILLER RD&PIERPOINT AV             1\n",
       "81ST DAKOTA ST                      1\n",
       "EXCELSIOR EDES AV                   1\n",
       "OAKLAND 81ST AV                     1\n",
       "27TH ST&KIRKHAM CT                  1\n",
       "92ND BIGGE AV                       1\n",
       "LAKE ST&LINDEN ST                   1\n",
       "94TH MARTIN LUTHER KING             1\n",
       "14TH AV&REDWOOD RD                  1\n",
       "50TH E 12TH ST                      1\n",
       "7TH 30TH AV                         1\n",
       "EMBARCADERO SKYLINE BLVD            1\n",
       "Name: Location, Length: 32505, dtype: int64"
      ]
     },
     "execution_count": 5,
     "metadata": {},
     "output_type": "execute_result"
    }
   ],
   "source": [
    "crime['Location'].value_counts()"
   ]
  },
  {
   "cell_type": "code",
   "execution_count": 6,
   "metadata": {},
   "outputs": [
    {
     "data": {
      "text/plain": [
       "1.0    79152\n",
       "2.0    67261\n",
       "3.0    32699\n",
       "Name: Area Id, dtype: int64"
      ]
     },
     "execution_count": 6,
     "metadata": {},
     "output_type": "execute_result"
    }
   ],
   "source": [
    "crime['Area Id'].value_counts()"
   ]
  },
  {
   "cell_type": "code",
   "execution_count": 7,
   "metadata": {},
   "outputs": [
    {
     "data": {
      "text/plain": [
       "04X     7410\n",
       "08X     6885\n",
       "26Y     5478\n",
       "30Y     5295\n",
       "06X     5119\n",
       "23X     5051\n",
       "30X     4956\n",
       "19X     4955\n",
       "34X     4673\n",
       "29X     4483\n",
       "20X     4287\n",
       "27Y     4159\n",
       "07X     4134\n",
       "31Y     4082\n",
       "25X     4022\n",
       "35X     3880\n",
       "33X     3849\n",
       "03X     3819\n",
       "32X     3711\n",
       "27X     3703\n",
       "09X     3630\n",
       "21Y     3435\n",
       "32Y     3125\n",
       "22X     3061\n",
       "26X     2978\n",
       "02Y     2970\n",
       "10X     2967\n",
       "14X     2733\n",
       "03Y     2726\n",
       "22Y     2664\n",
       "12Y     2651\n",
       "05X     2633\n",
       "02X     2614\n",
       "31X     2603\n",
       "21X     2593\n",
       "17Y     2582\n",
       "24Y     2575\n",
       "13Z     2546\n",
       "15X     2509\n",
       "24X     2459\n",
       "12X     2422\n",
       "10Y     2383\n",
       "01X     2210\n",
       "28X     2191\n",
       "17X     2133\n",
       "11X     2087\n",
       "13Y     2017\n",
       "35Y     1956\n",
       "31Z     1870\n",
       "18Y     1778\n",
       "16Y     1561\n",
       "14Y     1492\n",
       "25Y     1482\n",
       "13X     1122\n",
       "18X     1063\n",
       "16X      994\n",
       "05Y      710\n",
       "PDT2      20\n",
       "Name: Beat, dtype: int64"
      ]
     },
     "execution_count": 7,
     "metadata": {},
     "output_type": "execute_result"
    }
   ],
   "source": [
    "crime['Beat'].value_counts()"
   ]
  },
  {
   "cell_type": "code",
   "execution_count": 8,
   "metadata": {},
   "outputs": [
    {
     "data": {
      "text/plain": [
       "2.0    143314\n",
       "1.0     36699\n",
       "0.0         2\n",
       "Name: Priority, dtype: int64"
      ]
     },
     "execution_count": 8,
     "metadata": {},
     "output_type": "execute_result"
    }
   ],
   "source": [
    "crime['Priority'].value_counts()"
   ]
  },
  {
   "cell_type": "code",
   "execution_count": 9,
   "metadata": {},
   "outputs": [
    {
     "data": {
      "text/plain": [
       "933R      17348\n",
       "911H      12817\n",
       "SECCK     11393\n",
       "415       10752\n",
       "10851      7180\n",
       "415C       6624\n",
       "5150       5031\n",
       "242        4636\n",
       "912        4282\n",
       "243E       4051\n",
       "415GS      3939\n",
       "949        3346\n",
       "211        3148\n",
       "HAZ        3068\n",
       "602L       2791\n",
       "WELCK      2513\n",
       "11500      2509\n",
       "245        2373\n",
       "20002      2233\n",
       "943        2081\n",
       "901A       2075\n",
       "647C       2064\n",
       "415TH      1983\n",
       "601R       1901\n",
       "459        1883\n",
       "CODE7      1874\n",
       "975        1834\n",
       "933SA      1824\n",
       "415N       1603\n",
       "23103      1602\n",
       "          ...  \n",
       "166_4         2\n",
       "IFS           2\n",
       "475           2\n",
       "148_5A        2\n",
       "530           2\n",
       "SUSPS         2\n",
       "SURNDR        2\n",
       "300B          2\n",
       "REDALT        2\n",
       "243B          1\n",
       "10801         1\n",
       "346           1\n",
       "LKOUT         1\n",
       "MTHLAB        1\n",
       "148_1         1\n",
       "243C          1\n",
       "963           1\n",
       "593           1\n",
       "518           1\n",
       "148           1\n",
       "YELALT        1\n",
       "FLOOD         1\n",
       "666           1\n",
       "591           1\n",
       "PGE           1\n",
       "12020         1\n",
       "970A          1\n",
       "TARA          1\n",
       "182           1\n",
       "140           1\n",
       "Name: Incident Type Id, Length: 263, dtype: int64"
      ]
     },
     "execution_count": 9,
     "metadata": {},
     "output_type": "execute_result"
    }
   ],
   "source": [
    "crime['Incident Type Id'].value_counts()"
   ]
  },
  {
   "cell_type": "code",
   "execution_count": 10,
   "metadata": {},
   "outputs": [
    {
     "data": {
      "text/plain": [
       "ALARM-RINGER            17348\n",
       "911 HANG-UP             12817\n",
       "SECURITY CHECK          11393\n",
       "STOLEN VEHICLE           7180\n",
       "415 UNKNOWN              6624\n",
       "DISTURBING THE PEACE     5843\n",
       "MENTALLY ILL             5031\n",
       "BATTERY                  4636\n",
       "SUSPICIOUS PERSON        4282\n",
       "BATTERY ON CO-HABITA     4051\n",
       "415 GUNSHOTS             3939\n",
       "415 FAMILY               3595\n",
       "SUSPICIOUS VEHICLE       3346\n",
       "ROBBERY                  3148\n",
       "HAZARDOUS SITUATION/     3068\n",
       "TRESPASS:                2791\n",
       "WELFARE CHECK -- CHE     2513\n",
       "DRUG DEALING             2509\n",
       "ASSAULT W/DEADLY WEA     2373\n",
       "HIT & RUN (PROPERTY      2233\n",
       "FIGHT                    2081\n",
       "VEHICLE COLLISION-PE     2075\n",
       "OBSTRUCT PERSON'S MO     2064\n",
       "415 THREATS              1983\n",
       "RUNAWAY                  1901\n",
       "BURGLARY                 1883\n",
       "SUBJECT ARMED WITH W     1874\n",
       "STAND BY AND PRESERV     1834\n",
       "ALARM-SCHOOL ALARM       1824\n",
       "DISTURBANCE-NEIGHBOR     1603\n",
       "                        ...  \n",
       "SPOUSAL RAPE                2\n",
       "REQUIRED TO REGISTER        2\n",
       "FALSE REPORT OF CRIM        2\n",
       "SUSPECTS                    2\n",
       "ANNOYING TELEPHONE C        2\n",
       "PROTECTIVE CUSTODY-N        2\n",
       "IDENTITY THEFT              2\n",
       "CONTEMPT OF COURT/DI        2\n",
       "RED ALERT-AIRPLANE I        2\n",
       "TICKET SCALPING             1\n",
       "YELLOW ALERT AT THE         1\n",
       "CONSPIRACY COURT ORD        1\n",
       "PACIFIC GAS AND ELEC        1\n",
       "LOCKOUT                     1\n",
       "ASSAULT ON A POLICE         1\n",
       "VEHICLE PARKED ON SI        1\n",
       "PETTY THEFT W/PRIORS        1\n",
       "EXTORTION                   1\n",
       "FALSE BOMB REPORT TO        1\n",
       "PLAYING BALL IN STRE        1\n",
       "FLOOD                       1\n",
       "POSSESSION/MANUFACTU        1\n",
       "INJURE TELEPHONE/POW        1\n",
       "AGGRAVATED ASSAULT O        1\n",
       "TARASOFF                    1\n",
       "CHOP SHOP OWNERSHIP/        1\n",
       "OBSTRUCTING JUSTICE-        1\n",
       "INTERFERE WITH POWER        1\n",
       "THREATEN WITNESS/VIC        1\n",
       "METHLAB                     1\n",
       "Name: Incident Type Description, Length: 265, dtype: int64"
      ]
     },
     "execution_count": 10,
     "metadata": {},
     "output_type": "execute_result"
    }
   ],
   "source": [
    "crime['Incident Type Description'].value_counts()"
   ]
  },
  {
   "cell_type": "code",
   "execution_count": 11,
   "metadata": {},
   "outputs": [
    {
     "data": {
      "text/html": [
       "<div>\n",
       "<style scoped>\n",
       "    .dataframe tbody tr th:only-of-type {\n",
       "        vertical-align: middle;\n",
       "    }\n",
       "\n",
       "    .dataframe tbody tr th {\n",
       "        vertical-align: top;\n",
       "    }\n",
       "\n",
       "    .dataframe thead th {\n",
       "        text-align: right;\n",
       "    }\n",
       "</style>\n",
       "<table border=\"1\" class=\"dataframe\">\n",
       "  <thead>\n",
       "    <tr style=\"text-align: right;\">\n",
       "      <th></th>\n",
       "      <th>Create Time</th>\n",
       "      <th>Closed Time</th>\n",
       "    </tr>\n",
       "  </thead>\n",
       "  <tbody>\n",
       "    <tr>\n",
       "      <th>0</th>\n",
       "      <td>2011-01-01T00:00:00.000</td>\n",
       "      <td>2011-01-01T00:28:17.000</td>\n",
       "    </tr>\n",
       "    <tr>\n",
       "      <th>1</th>\n",
       "      <td>2011-01-01T00:01:11.000</td>\n",
       "      <td>2011-01-01T01:12:56.000</td>\n",
       "    </tr>\n",
       "    <tr>\n",
       "      <th>2</th>\n",
       "      <td>2011-01-01T00:01:25.000</td>\n",
       "      <td>2011-01-01T00:07:20.000</td>\n",
       "    </tr>\n",
       "  </tbody>\n",
       "</table>\n",
       "</div>"
      ],
      "text/plain": [
       "               Create Time              Closed Time\n",
       "0  2011-01-01T00:00:00.000  2011-01-01T00:28:17.000\n",
       "1  2011-01-01T00:01:11.000  2011-01-01T01:12:56.000\n",
       "2  2011-01-01T00:01:25.000  2011-01-01T00:07:20.000"
      ]
     },
     "execution_count": 11,
     "metadata": {},
     "output_type": "execute_result"
    }
   ],
   "source": [
    "crime_num = pd.DataFrame({\"Create Time\":crime['Create Time'],\"Closed Time\":crime['Closed Time']})\n",
    "crime_num[:3]"
   ]
  },
  {
   "cell_type": "code",
   "execution_count": 13,
   "metadata": {},
   "outputs": [
    {
     "data": {
      "text/html": [
       "<div>\n",
       "<style scoped>\n",
       "    .dataframe tbody tr th:only-of-type {\n",
       "        vertical-align: middle;\n",
       "    }\n",
       "\n",
       "    .dataframe tbody tr th {\n",
       "        vertical-align: top;\n",
       "    }\n",
       "\n",
       "    .dataframe thead th {\n",
       "        text-align: right;\n",
       "    }\n",
       "</style>\n",
       "<table border=\"1\" class=\"dataframe\">\n",
       "  <thead>\n",
       "    <tr style=\"text-align: right;\">\n",
       "      <th></th>\n",
       "      <th>Create Time</th>\n",
       "      <th>Closed Time</th>\n",
       "    </tr>\n",
       "  </thead>\n",
       "  <tbody>\n",
       "    <tr>\n",
       "      <th>count</th>\n",
       "      <td>180015</td>\n",
       "      <td>180009</td>\n",
       "    </tr>\n",
       "    <tr>\n",
       "      <th>unique</th>\n",
       "      <td>179451</td>\n",
       "      <td>179506</td>\n",
       "    </tr>\n",
       "    <tr>\n",
       "      <th>top</th>\n",
       "      <td>2011-06-02T00:00:00.000</td>\n",
       "      <td>2011-07-09T15:49:29.000</td>\n",
       "    </tr>\n",
       "    <tr>\n",
       "      <th>freq</th>\n",
       "      <td>4</td>\n",
       "      <td>2</td>\n",
       "    </tr>\n",
       "  </tbody>\n",
       "</table>\n",
       "</div>"
      ],
      "text/plain": [
       "                    Create Time              Closed Time\n",
       "count                    180015                   180009\n",
       "unique                   179451                   179506\n",
       "top     2011-06-02T00:00:00.000  2011-07-09T15:49:29.000\n",
       "freq                          4                        2"
      ]
     },
     "execution_count": 13,
     "metadata": {},
     "output_type": "execute_result"
    }
   ],
   "source": [
    "crime_num.describe()"
   ]
  }
 ],
 "metadata": {
  "kernelspec": {
   "display_name": "Python 3",
   "language": "python",
   "name": "python3"
  },
  "language_info": {
   "codemirror_mode": {
    "name": "ipython",
    "version": 3
   },
   "file_extension": ".py",
   "mimetype": "text/x-python",
   "name": "python",
   "nbconvert_exporter": "python",
   "pygments_lexer": "ipython3",
   "version": "3.7.1"
  }
 },
 "nbformat": 4,
 "nbformat_minor": 2
}
