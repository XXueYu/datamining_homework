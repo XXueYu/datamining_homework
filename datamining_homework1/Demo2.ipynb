{
 "cells": [
  {
   "cell_type": "markdown",
   "metadata": {},
   "source": [
    "##  数据集：winemag-data-130k-v2"
   ]
  },
  {
   "cell_type": "code",
   "execution_count": 1,
   "metadata": {},
   "outputs": [
    {
     "data": {
      "text/html": [
       "<div>\n",
       "<style scoped>\n",
       "    .dataframe tbody tr th:only-of-type {\n",
       "        vertical-align: middle;\n",
       "    }\n",
       "\n",
       "    .dataframe tbody tr th {\n",
       "        vertical-align: top;\n",
       "    }\n",
       "\n",
       "    .dataframe thead th {\n",
       "        text-align: right;\n",
       "    }\n",
       "</style>\n",
       "<table border=\"1\" class=\"dataframe\">\n",
       "  <thead>\n",
       "    <tr style=\"text-align: right;\">\n",
       "      <th></th>\n",
       "      <th>Unnamed: 0</th>\n",
       "      <th>country</th>\n",
       "      <th>description</th>\n",
       "      <th>designation</th>\n",
       "      <th>points</th>\n",
       "      <th>price</th>\n",
       "      <th>province</th>\n",
       "      <th>region_1</th>\n",
       "      <th>region_2</th>\n",
       "      <th>taster_name</th>\n",
       "      <th>taster_twitter_handle</th>\n",
       "      <th>title</th>\n",
       "      <th>variety</th>\n",
       "      <th>winery</th>\n",
       "    </tr>\n",
       "  </thead>\n",
       "  <tbody>\n",
       "    <tr>\n",
       "      <th>0</th>\n",
       "      <td>0</td>\n",
       "      <td>Italy</td>\n",
       "      <td>Aromas include tropical fruit, broom, brimston...</td>\n",
       "      <td>Vulkà Bianco</td>\n",
       "      <td>87</td>\n",
       "      <td>NaN</td>\n",
       "      <td>Sicily &amp; Sardinia</td>\n",
       "      <td>Etna</td>\n",
       "      <td>NaN</td>\n",
       "      <td>Kerin O’Keefe</td>\n",
       "      <td>@kerinokeefe</td>\n",
       "      <td>Nicosia 2013 Vulkà Bianco  (Etna)</td>\n",
       "      <td>White Blend</td>\n",
       "      <td>Nicosia</td>\n",
       "    </tr>\n",
       "    <tr>\n",
       "      <th>1</th>\n",
       "      <td>1</td>\n",
       "      <td>Portugal</td>\n",
       "      <td>This is ripe and fruity, a wine that is smooth...</td>\n",
       "      <td>Avidagos</td>\n",
       "      <td>87</td>\n",
       "      <td>15.0</td>\n",
       "      <td>Douro</td>\n",
       "      <td>NaN</td>\n",
       "      <td>NaN</td>\n",
       "      <td>Roger Voss</td>\n",
       "      <td>@vossroger</td>\n",
       "      <td>Quinta dos Avidagos 2011 Avidagos Red (Douro)</td>\n",
       "      <td>Portuguese Red</td>\n",
       "      <td>Quinta dos Avidagos</td>\n",
       "    </tr>\n",
       "    <tr>\n",
       "      <th>2</th>\n",
       "      <td>2</td>\n",
       "      <td>US</td>\n",
       "      <td>Tart and snappy, the flavors of lime flesh and...</td>\n",
       "      <td>NaN</td>\n",
       "      <td>87</td>\n",
       "      <td>14.0</td>\n",
       "      <td>Oregon</td>\n",
       "      <td>Willamette Valley</td>\n",
       "      <td>Willamette Valley</td>\n",
       "      <td>Paul Gregutt</td>\n",
       "      <td>@paulgwine</td>\n",
       "      <td>Rainstorm 2013 Pinot Gris (Willamette Valley)</td>\n",
       "      <td>Pinot Gris</td>\n",
       "      <td>Rainstorm</td>\n",
       "    </tr>\n",
       "  </tbody>\n",
       "</table>\n",
       "</div>"
      ],
      "text/plain": [
       "   Unnamed: 0   country                                        description  \\\n",
       "0           0     Italy  Aromas include tropical fruit, broom, brimston...   \n",
       "1           1  Portugal  This is ripe and fruity, a wine that is smooth...   \n",
       "2           2        US  Tart and snappy, the flavors of lime flesh and...   \n",
       "\n",
       "    designation  points  price           province           region_1  \\\n",
       "0  Vulkà Bianco      87    NaN  Sicily & Sardinia               Etna   \n",
       "1      Avidagos      87   15.0              Douro                NaN   \n",
       "2           NaN      87   14.0             Oregon  Willamette Valley   \n",
       "\n",
       "            region_2    taster_name taster_twitter_handle  \\\n",
       "0                NaN  Kerin O’Keefe          @kerinokeefe   \n",
       "1                NaN     Roger Voss            @vossroger   \n",
       "2  Willamette Valley   Paul Gregutt           @paulgwine    \n",
       "\n",
       "                                           title         variety  \\\n",
       "0              Nicosia 2013 Vulkà Bianco  (Etna)     White Blend   \n",
       "1  Quinta dos Avidagos 2011 Avidagos Red (Douro)  Portuguese Red   \n",
       "2  Rainstorm 2013 Pinot Gris (Willamette Valley)      Pinot Gris   \n",
       "\n",
       "                winery  \n",
       "0              Nicosia  \n",
       "1  Quinta dos Avidagos  \n",
       "2            Rainstorm  "
      ]
     },
     "execution_count": 1,
     "metadata": {},
     "output_type": "execute_result"
    }
   ],
   "source": [
    "import pandas as pd\n",
    "wine = pd.io.parsers.read_csv('E:\\\\winemag-data-130k-v2.csv')\n",
    "wine[0:3]"
   ]
  },
  {
   "cell_type": "code",
   "execution_count": 52,
   "metadata": {},
   "outputs": [
    {
     "data": {
      "text/plain": [
       "Index(['Unnamed: 0', 'country', 'description', 'designation', 'points',\n",
       "       'price', 'province', 'region_1', 'region_2', 'taster_name',\n",
       "       'taster_twitter_handle', 'title', 'variety', 'winery'],\n",
       "      dtype='object')"
      ]
     },
     "execution_count": 52,
     "metadata": {},
     "output_type": "execute_result"
    }
   ],
   "source": [
    "wine.columns"
   ]
  },
  {
   "cell_type": "markdown",
   "metadata": {},
   "source": [
    "# 标称属性的数据摘要"
   ]
  },
  {
   "cell_type": "code",
   "execution_count": 53,
   "metadata": {},
   "outputs": [
    {
     "data": {
      "text/plain": [
       "US                        54504\n",
       "France                    22093\n",
       "Italy                     19540\n",
       "Spain                      6645\n",
       "Portugal                   5691\n",
       "Chile                      4472\n",
       "Argentina                  3800\n",
       "Austria                    3345\n",
       "Australia                  2329\n",
       "Germany                    2165\n",
       "New Zealand                1419\n",
       "South Africa               1401\n",
       "Israel                      505\n",
       "Greece                      466\n",
       "Canada                      257\n",
       "Hungary                     146\n",
       "Bulgaria                    141\n",
       "Romania                     120\n",
       "Uruguay                     109\n",
       "Turkey                       90\n",
       "Slovenia                     87\n",
       "Georgia                      86\n",
       "England                      74\n",
       "Croatia                      73\n",
       "Mexico                       70\n",
       "Moldova                      59\n",
       "Brazil                       52\n",
       "Lebanon                      35\n",
       "Morocco                      28\n",
       "Peru                         16\n",
       "Ukraine                      14\n",
       "Czech Republic               12\n",
       "Serbia                       12\n",
       "Macedonia                    12\n",
       "Cyprus                       11\n",
       "India                         9\n",
       "Switzerland                   7\n",
       "Luxembourg                    6\n",
       "Bosnia and Herzegovina        2\n",
       "Armenia                       2\n",
       "Egypt                         1\n",
       "China                         1\n",
       "Slovakia                      1\n",
       "Name: country, dtype: int64"
      ]
     },
     "execution_count": 53,
     "metadata": {},
     "output_type": "execute_result"
    }
   ],
   "source": [
    "wine['country'].value_counts()"
   ]
  },
  {
   "cell_type": "code",
   "execution_count": 54,
   "metadata": {},
   "outputs": [
    {
     "data": {
      "text/plain": [
       "Reserve                                          2009\n",
       "Estate                                           1322\n",
       "Reserva                                          1259\n",
       "Riserva                                           698\n",
       "Estate Grown                                      621\n",
       "Brut                                              513\n",
       "Dry                                               413\n",
       "Barrel sample                                     375\n",
       "Crianza                                           343\n",
       "Estate Bottled                                    342\n",
       "Vieilles Vignes                                   308\n",
       "Brut Rosé                                         276\n",
       "Gran Reserva                                      261\n",
       "Barrel Sample                                     252\n",
       "Tradition                                         238\n",
       "Old Vine                                          221\n",
       "Extra Dry                                         204\n",
       "Rosé of                                           172\n",
       "Rosé                                              166\n",
       "Réserve                                           153\n",
       "Single Vineyard                                   131\n",
       "Vintage                                           128\n",
       "Estate Reserve                                    125\n",
       "Bien Nacido Vineyard                              120\n",
       "Late Harvest                                      112\n",
       "Classic                                           111\n",
       "Unoaked                                           110\n",
       "Barrel Select                                     106\n",
       "Late Bottled Vintage                               99\n",
       "Blanc de Blancs Brut                               96\n",
       "                                                 ... \n",
       "Rose Top Brut                                       1\n",
       "Super Substance Me Stoneridge Vineyard              1\n",
       "Beatrice Gran Selezione                             1\n",
       "Syncopation                                         1\n",
       "Sublime Gladius Brut                                1\n",
       "Sélection des Cognettes Sur Lie                     1\n",
       "Brut Nature Cramant Blanc de Blancs Grand Cru       1\n",
       "Tinto Real                                          1\n",
       "Twelvestones Estate Grown and Bottled               1\n",
       "Pommard4/777                                        1\n",
       "Sias Cuvee                                          1\n",
       "Marly Domaine Hamelin                               1\n",
       "Sangiacomo Green Acres Catarina Clone 4             1\n",
       "Cara Viva Branco                                    1\n",
       "Westlands                                           1\n",
       "Floodgate Vineyard North Face                       1\n",
       "Springtime Brut Rosé                                1\n",
       "Millenovecento 48 Riserva                           1\n",
       "Talinay Coastal Limestone Vineyard                  1\n",
       "Nebbaro Red                                         1\n",
       "Les Côtes De L'Ouest                                1\n",
       "Profili Extra Dry                                   1\n",
       "Big Woods                                           1\n",
       "Tauro Block Boushey Vineyard                        1\n",
       "Koos-Koos-Kia Colter's Creek Vineyard               1\n",
       "Dürkheimer Dry-Style                                1\n",
       "Forever Wild Rosé of                                1\n",
       "F Selezione Alessandra                              1\n",
       "Ponka                                               1\n",
       "Tentazioni d'Aba                                    1\n",
       "Name: designation, Length: 37979, dtype: int64"
      ]
     },
     "execution_count": 54,
     "metadata": {},
     "output_type": "execute_result"
    }
   ],
   "source": [
    "wine['designation'].value_counts()"
   ]
  },
  {
   "cell_type": "code",
   "execution_count": 55,
   "metadata": {},
   "outputs": [
    {
     "data": {
      "text/plain": [
       "California                   36247\n",
       "Washington                    8639\n",
       "Bordeaux                      5941\n",
       "Tuscany                       5897\n",
       "Oregon                        5373\n",
       "Burgundy                      3980\n",
       "Northern Spain                3851\n",
       "Piedmont                      3729\n",
       "Mendoza Province              3264\n",
       "Veneto                        2716\n",
       "New York                      2688\n",
       "Alsace                        2440\n",
       "Northeastern Italy            2138\n",
       "Loire Valley                  1856\n",
       "Sicily & Sardinia             1797\n",
       "Champagne                     1613\n",
       "Southwest France              1503\n",
       "South Australia               1349\n",
       "Southern Italy                1349\n",
       "Provence                      1346\n",
       "Douro                         1281\n",
       "Central Italy                 1233\n",
       "Catalonia                     1164\n",
       "Rhône Valley                  1081\n",
       "Beaujolais                    1044\n",
       "Mosel                         1039\n",
       "Alentejano                     937\n",
       "Colchagua Valley               830\n",
       "Marlborough                    798\n",
       "Virginia                       777\n",
       "                             ...  \n",
       "Breede River Valley              1\n",
       "Neuchâtel                        1\n",
       "Dingač                           1\n",
       "Messinia                         1\n",
       "Piekenierskloof                  1\n",
       "Table wine                       1\n",
       "Monemvasia                       1\n",
       "Imathia                          1\n",
       "Pocerina                         1\n",
       "Beotia                           1\n",
       "Casablanca-Curicó Valley         1\n",
       "Kentucky                         1\n",
       "Urla-Thrace                      1\n",
       "Coelemu                          1\n",
       "Muzla                            1\n",
       "Elazığ-Diyarbakir                1\n",
       "Serra do Sudeste                 1\n",
       "Central Greece                   1\n",
       "Gladstone                        1\n",
       "Muscat of Patras                 1\n",
       "Ticino                           1\n",
       "Slovenska Istra                  1\n",
       "Markopoulo                       1\n",
       "Alenteo                          1\n",
       "Kathikas                         1\n",
       "Viile Timis                      1\n",
       "Dealurile Hușilor                1\n",
       "Lemesos                          1\n",
       "Middle and South Dalmatia        1\n",
       "Pitsilia Mountains               1\n",
       "Name: province, Length: 425, dtype: int64"
      ]
     },
     "execution_count": 55,
     "metadata": {},
     "output_type": "execute_result"
    }
   ],
   "source": [
    "wine['province'].value_counts()"
   ]
  },
  {
   "cell_type": "code",
   "execution_count": 56,
   "metadata": {},
   "outputs": [
    {
     "data": {
      "text/plain": [
       "Napa Valley                                          4480\n",
       "Columbia Valley (WA)                                 4124\n",
       "Russian River Valley                                 3091\n",
       "California                                           2629\n",
       "Paso Robles                                          2350\n",
       "Willamette Valley                                    2301\n",
       "Mendoza                                              2301\n",
       "Alsace                                               2163\n",
       "Champagne                                            1613\n",
       "Barolo                                               1599\n",
       "Finger Lakes                                         1565\n",
       "Sonoma Coast                                         1474\n",
       "Brunello di Montalcino                               1470\n",
       "Rioja                                                1469\n",
       "Sonoma County                                        1246\n",
       "Toscana                                              1197\n",
       "Walla Walla Valley (WA)                              1066\n",
       "Chianti Classico                                     1062\n",
       "Santa Barbara County                                 1000\n",
       "Carneros                                              999\n",
       "Yakima Valley                                         997\n",
       "Sta. Rita Hills                                       975\n",
       "Dry Creek Valley                                      939\n",
       "Sicilia                                               925\n",
       "Côtes de Provence                                     859\n",
       "Santa Ynez Valley                                     812\n",
       "Santa Lucia Highlands                                 806\n",
       "Lodi                                                  803\n",
       "Barbaresco                                            794\n",
       "Alexander Valley                                      784\n",
       "                                                     ... \n",
       "Breganze                                                1\n",
       "Murray-Darling                                          1\n",
       "Chignin-Bergeron                                        1\n",
       "Côtes du Frontonnais                                    1\n",
       "Primitivo del Tarantino                                 1\n",
       "Australia-New Zealand                                   1\n",
       "Clare Valley-Eden Valley                                1\n",
       "Colline Teramane                                        1\n",
       "Finca Élez                                              1\n",
       "Paso Robles Highlands District                          1\n",
       "Geographe                                               1\n",
       "Bourgogne Vézelay                                       1\n",
       "Clairette de Die                                        1\n",
       "Trentino Superiore                                      1\n",
       "Sonoma-Napa-Monterey                                    1\n",
       "Est! Est!! Est!!! di Montefiascone                      1\n",
       "Prince Edward County                                    1\n",
       "Coteaux de Verdon                                       1\n",
       "Moscato di Pantelleria                                  1\n",
       "Isle St. George                                         1\n",
       "Benaco Bresciano                                        1\n",
       "Assisi                                                  1\n",
       "Vino de la Tierra Contraviesa Alpujarra                 1\n",
       "Vino de la Tierra Ribera del Gállego-Cinco Villas       1\n",
       "Arribes del Duero                                       1\n",
       "Canada                                                  1\n",
       "Colli del Limbara                                       1\n",
       "Altos de Mendoza                                        1\n",
       "Sonoma-Napa-Lake                                        1\n",
       "Kentucky                                                1\n",
       "Name: region_1, Length: 1229, dtype: int64"
      ]
     },
     "execution_count": 56,
     "metadata": {},
     "output_type": "execute_result"
    }
   ],
   "source": [
    "wine['region_1'].value_counts()"
   ]
  },
  {
   "cell_type": "code",
   "execution_count": 57,
   "metadata": {},
   "outputs": [
    {
     "data": {
      "text/plain": [
       "Central Coast        11065\n",
       "Sonoma                9028\n",
       "Columbia Valley       8103\n",
       "Napa                  6814\n",
       "Willamette Valley     3423\n",
       "California Other      2663\n",
       "Finger Lakes          1777\n",
       "Sierra Foothills      1462\n",
       "Napa-Sonoma           1169\n",
       "Central Valley        1062\n",
       "Southern Oregon        917\n",
       "Oregon Other           727\n",
       "Long Island            680\n",
       "North Coast            584\n",
       "Washington Other       534\n",
       "South Coast            272\n",
       "New York Other         231\n",
       "Name: region_2, dtype: int64"
      ]
     },
     "execution_count": 57,
     "metadata": {},
     "output_type": "execute_result"
    }
   ],
   "source": [
    "wine['region_2'].value_counts()"
   ]
  },
  {
   "cell_type": "code",
   "execution_count": 58,
   "metadata": {},
   "outputs": [
    {
     "data": {
      "text/plain": [
       "Roger Voss            25514\n",
       "Michael Schachner     15134\n",
       "Kerin O’Keefe         10776\n",
       "Virginie Boone         9537\n",
       "Paul Gregutt           9532\n",
       "Matt Kettmann          6332\n",
       "Joe Czerwinski         5147\n",
       "Sean P. Sullivan       4966\n",
       "Anna Lee C. Iijima     4415\n",
       "Jim Gordon             4177\n",
       "Anne Krebiehl MW       3685\n",
       "Lauren Buzzeo          1835\n",
       "Susan Kostrzewa        1085\n",
       "Mike DeSimone           514\n",
       "Jeff Jenssen            491\n",
       "Alexander Peartree      415\n",
       "Carrie Dykes            139\n",
       "Fiona Adams              27\n",
       "Christina Pickard         6\n",
       "Name: taster_name, dtype: int64"
      ]
     },
     "execution_count": 58,
     "metadata": {},
     "output_type": "execute_result"
    }
   ],
   "source": [
    "wine['taster_name'].value_counts()"
   ]
  },
  {
   "cell_type": "code",
   "execution_count": 59,
   "metadata": {},
   "outputs": [
    {
     "data": {
      "text/plain": [
       "@vossroger          25514\n",
       "@wineschach         15134\n",
       "@kerinokeefe        10776\n",
       "@vboone              9537\n",
       "@paulgwine           9532\n",
       "@mattkettmann        6332\n",
       "@JoeCz               5147\n",
       "@wawinereport        4966\n",
       "@gordone_cellars     4177\n",
       "@AnneInVino          3685\n",
       "@laurbuzz            1835\n",
       "@suskostrzewa        1085\n",
       "@worldwineguys       1005\n",
       "@bkfiona               27\n",
       "@winewchristina         6\n",
       "Name: taster_twitter_handle, dtype: int64"
      ]
     },
     "execution_count": 59,
     "metadata": {},
     "output_type": "execute_result"
    }
   ],
   "source": [
    "wine['taster_twitter_handle'].value_counts()"
   ]
  },
  {
   "cell_type": "code",
   "execution_count": 60,
   "metadata": {},
   "outputs": [
    {
     "data": {
      "text/plain": [
       "Pinot Noir                      13272\n",
       "Chardonnay                      11753\n",
       "Cabernet Sauvignon               9472\n",
       "Red Blend                        8946\n",
       "Bordeaux-style Red Blend         6915\n",
       "Riesling                         5189\n",
       "Sauvignon Blanc                  4967\n",
       "Syrah                            4142\n",
       "Rosé                             3564\n",
       "Merlot                           3102\n",
       "Nebbiolo                         2804\n",
       "Zinfandel                        2714\n",
       "Sangiovese                       2707\n",
       "Malbec                           2652\n",
       "Portuguese Red                   2466\n",
       "White Blend                      2360\n",
       "Sparkling Blend                  2153\n",
       "Tempranillo                      1810\n",
       "Rhône-style Red Blend            1471\n",
       "Pinot Gris                       1455\n",
       "Champagne Blend                  1396\n",
       "Cabernet Franc                   1353\n",
       "Grüner Veltliner                 1345\n",
       "Portuguese White                 1159\n",
       "Bordeaux-style White Blend       1066\n",
       "Pinot Grigio                     1052\n",
       "Gamay                            1025\n",
       "Gewürztraminer                   1012\n",
       "Viognier                          996\n",
       "Shiraz                            836\n",
       "                                ...  \n",
       "St. Vincent                         1\n",
       "Cococciola                          1\n",
       "Merlot-Petite Verdot                1\n",
       "Verdosilla                          1\n",
       "Tinta Negra Mole                    1\n",
       "Tempranillo-Malbec                  1\n",
       "Forcallà                            1\n",
       "Pinot Gris-Gewürztraminer           1\n",
       "Viognier-Valdiguié                  1\n",
       "Jampal                              1\n",
       "Graševina                           1\n",
       "Gamza                               1\n",
       "Petit Meslier                       1\n",
       "Diamond                             1\n",
       "Caprettone                          1\n",
       "Shiraz-Roussanne                    1\n",
       "Kotsifali                           1\n",
       "Pinot Blanc-Pinot Noir              1\n",
       "Sideritis                           1\n",
       "Franconia                           1\n",
       "Pinot Grigio-Sauvignon Blanc        1\n",
       "Moschofilero-Chardonnay             1\n",
       "Biancale                            1\n",
       "Mavroudi                            1\n",
       "Torontel                            1\n",
       "Biancolella                         1\n",
       "Francisa                            1\n",
       "Irsai Oliver                        1\n",
       "Malagouzia-Chardonnay               1\n",
       "Pignolo                             1\n",
       "Name: variety, Length: 707, dtype: int64"
      ]
     },
     "execution_count": 60,
     "metadata": {},
     "output_type": "execute_result"
    }
   ],
   "source": [
    "wine['variety'].value_counts()"
   ]
  },
  {
   "cell_type": "markdown",
   "metadata": {},
   "source": [
    "# 数值属性的数据摘要"
   ]
  },
  {
   "cell_type": "code",
   "execution_count": 3,
   "metadata": {},
   "outputs": [
    {
     "data": {
      "text/html": [
       "<div>\n",
       "<style scoped>\n",
       "    .dataframe tbody tr th:only-of-type {\n",
       "        vertical-align: middle;\n",
       "    }\n",
       "\n",
       "    .dataframe tbody tr th {\n",
       "        vertical-align: top;\n",
       "    }\n",
       "\n",
       "    .dataframe thead th {\n",
       "        text-align: right;\n",
       "    }\n",
       "</style>\n",
       "<table border=\"1\" class=\"dataframe\">\n",
       "  <thead>\n",
       "    <tr style=\"text-align: right;\">\n",
       "      <th></th>\n",
       "      <th>points</th>\n",
       "      <th>price</th>\n",
       "    </tr>\n",
       "  </thead>\n",
       "  <tbody>\n",
       "    <tr>\n",
       "      <th>0</th>\n",
       "      <td>87</td>\n",
       "      <td>NaN</td>\n",
       "    </tr>\n",
       "    <tr>\n",
       "      <th>1</th>\n",
       "      <td>87</td>\n",
       "      <td>15.0</td>\n",
       "    </tr>\n",
       "    <tr>\n",
       "      <th>2</th>\n",
       "      <td>87</td>\n",
       "      <td>14.0</td>\n",
       "    </tr>\n",
       "  </tbody>\n",
       "</table>\n",
       "</div>"
      ],
      "text/plain": [
       "   points  price\n",
       "0      87    NaN\n",
       "1      87   15.0\n",
       "2      87   14.0"
      ]
     },
     "execution_count": 3,
     "metadata": {},
     "output_type": "execute_result"
    }
   ],
   "source": [
    "wine_num = pd.DataFrame({'points':wine['points'],'price':wine['price']})\n",
    "wine_num[:3]"
   ]
  },
  {
   "cell_type": "code",
   "execution_count": 4,
   "metadata": {},
   "outputs": [
    {
     "data": {
      "text/html": [
       "<div>\n",
       "<style scoped>\n",
       "    .dataframe tbody tr th:only-of-type {\n",
       "        vertical-align: middle;\n",
       "    }\n",
       "\n",
       "    .dataframe tbody tr th {\n",
       "        vertical-align: top;\n",
       "    }\n",
       "\n",
       "    .dataframe thead th {\n",
       "        text-align: right;\n",
       "    }\n",
       "</style>\n",
       "<table border=\"1\" class=\"dataframe\">\n",
       "  <thead>\n",
       "    <tr style=\"text-align: right;\">\n",
       "      <th></th>\n",
       "      <th>points</th>\n",
       "      <th>price</th>\n",
       "    </tr>\n",
       "  </thead>\n",
       "  <tbody>\n",
       "    <tr>\n",
       "      <th>count</th>\n",
       "      <td>129971.000000</td>\n",
       "      <td>120975.000000</td>\n",
       "    </tr>\n",
       "    <tr>\n",
       "      <th>mean</th>\n",
       "      <td>88.447138</td>\n",
       "      <td>35.363389</td>\n",
       "    </tr>\n",
       "    <tr>\n",
       "      <th>std</th>\n",
       "      <td>3.039730</td>\n",
       "      <td>41.022218</td>\n",
       "    </tr>\n",
       "    <tr>\n",
       "      <th>min</th>\n",
       "      <td>80.000000</td>\n",
       "      <td>4.000000</td>\n",
       "    </tr>\n",
       "    <tr>\n",
       "      <th>25%</th>\n",
       "      <td>86.000000</td>\n",
       "      <td>17.000000</td>\n",
       "    </tr>\n",
       "    <tr>\n",
       "      <th>50%</th>\n",
       "      <td>88.000000</td>\n",
       "      <td>25.000000</td>\n",
       "    </tr>\n",
       "    <tr>\n",
       "      <th>75%</th>\n",
       "      <td>91.000000</td>\n",
       "      <td>42.000000</td>\n",
       "    </tr>\n",
       "    <tr>\n",
       "      <th>max</th>\n",
       "      <td>100.000000</td>\n",
       "      <td>3300.000000</td>\n",
       "    </tr>\n",
       "  </tbody>\n",
       "</table>\n",
       "</div>"
      ],
      "text/plain": [
       "              points          price\n",
       "count  129971.000000  120975.000000\n",
       "mean       88.447138      35.363389\n",
       "std         3.039730      41.022218\n",
       "min        80.000000       4.000000\n",
       "25%        86.000000      17.000000\n",
       "50%        88.000000      25.000000\n",
       "75%        91.000000      42.000000\n",
       "max       100.000000    3300.000000"
      ]
     },
     "execution_count": 4,
     "metadata": {},
     "output_type": "execute_result"
    }
   ],
   "source": [
    "wine_num.describe()"
   ]
  },
  {
   "cell_type": "code",
   "execution_count": 33,
   "metadata": {},
   "outputs": [
    {
     "name": "stdout",
     "output_type": "stream",
     "text": [
      "points属性的缺失值的个数为：\n",
      "0\n",
      "price属性的缺失值的个数为：\n",
      "8996\n"
     ]
    }
   ],
   "source": [
    "print(\"points属性的缺失值的个数为：\")\n",
    "print(len(wine['points'])-129971)\n",
    "print(\"price属性的缺失值的个数为：\")\n",
    "print(len(wine['price'])-120975)"
   ]
  },
  {
   "cell_type": "markdown",
   "metadata": {},
   "source": [
    "# 数据可视化"
   ]
  },
  {
   "cell_type": "code",
   "execution_count": 12,
   "metadata": {},
   "outputs": [
    {
     "data": {
      "image/png": "[encoded data removed]",
      "text/plain": [
       "<Figure size 432x288 with 1 Axes>"
      ]
     },
     "metadata": {
      "needs_background": "light"
     },
     "output_type": "display_data"
    }
   ],
   "source": [
    "import matplotlib.pyplot as plt\n",
    "import numpy as np\n",
    "matplotlib.rcParams['font.sans-serif']=['SimHei']   # 用黑体显示中文\n",
    "matplotlib.rcParams['axes.unicode_minus']=False     # 正常显示负号\n",
    "plt.hist(wine_num['points'], bins=20, normed=0, facecolor=\"blue\", edgecolor=\"black\", alpha=0.7)\n",
    "plt.xlabel(\"葡萄酒钟爱者对葡萄酒的评分\")\n",
    "plt.ylabel(\"频数/频率\")\n",
    "plt.title(\"频数/频率分布直方图\")\n",
    "plt.show()"
   ]
  },
  {
   "cell_type": "code",
   "execution_count": 46,
   "metadata": {},
   "outputs": [
    {
     "data": {
      "image/png": "[encoded data removed]",
      "text/plain": [
       "<Figure size 432x288 with 1 Axes>"
      ]
     },
     "metadata": {
      "needs_background": "light"
     },
     "output_type": "display_data"
    }
   ],
   "source": [
    "fig = plt.figure()  # 创建画布\n",
    "ax = plt.subplot()  # 创建作图区域\n",
    "ax.boxplot([wine_num['points']])\n",
    "plt.show()"
   ]
  },
  {
   "cell_type": "code",
   "execution_count": 44,
   "metadata": {},
   "outputs": [
    {
     "data": {
      "image/png": "[encoded data removed]",
      "text/plain": [
       "<Figure size 432x288 with 1 Axes>"
      ]
     },
     "metadata": {
      "needs_background": "light"
     },
     "output_type": "display_data"
    }
   ],
   "source": [
    "price_0 = wine['price'].dropna()           \n",
    "plt.hist(price_0, bins=20, normed=0, facecolor=\"blue\", edgecolor=\"black\", alpha=0.7)\n",
    "plt.xlabel(\"每瓶葡萄酒的价格\")\n",
    "plt.ylabel(\"频数/频率\")\n",
    "plt.title(\"频数/频率分布直方图\")\n",
    "plt.show()"
   ]
  },
  {
   "cell_type": "markdown",
   "metadata": {},
   "source": [
    "### 绘制盒图和直方图时数据里面都不能有缺失的情况"
   ]
  },
  {
   "cell_type": "code",
   "execution_count": 49,
   "metadata": {},
   "outputs": [
    {
     "data": {
      "image/png": "[encoded data removed]",
      "text/plain": [
       "<Figure size 432x288 with 1 Axes>"
      ]
     },
     "metadata": {
      "needs_background": "light"
     },
     "output_type": "display_data"
    }
   ],
   "source": [
    "fig = plt.figure()  # 创建画布\n",
    "ax = plt.subplot()  # 创建作图区域\n",
    "ax.boxplot([price_0])\n",
    "plt.show()"
   ]
  },
  {
   "cell_type": "markdown",
   "metadata": {},
   "source": [
    "# 数据缺失值的处理（仅针对数值属性）"
   ]
  },
  {
   "cell_type": "code",
   "execution_count": 38,
   "metadata": {},
   "outputs": [
    {
     "data": {
      "text/plain": [
       "120975"
      ]
     },
     "execution_count": 38,
     "metadata": {},
     "output_type": "execute_result"
    }
   ],
   "source": [
    "#points属性不存在数据缺失情况，故只针对price属性进行处理\n",
    "price_1 = wine['price'].dropna()\n",
    "len(price_1)\n",
    "#这种处理的可视化结果与之前相同"
   ]
  },
  {
   "cell_type": "code",
   "execution_count": 39,
   "metadata": {},
   "outputs": [
    {
     "data": {
      "image/png": "[encoded data removed]",
      "text/plain": [
       "<Figure size 432x288 with 1 Axes>"
      ]
     },
     "metadata": {
      "needs_background": "light"
     },
     "output_type": "display_data"
    }
   ],
   "source": [
    "plt.hist(price_1, bins=20, normed=0, facecolor=\"blue\", edgecolor=\"black\", alpha=0.7)\n",
    "plt.xlabel(\"每瓶葡萄酒的价格\")\n",
    "plt.ylabel(\"频数/频率\")\n",
    "plt.title(\"频数/频率分布直方图\")\n",
    "plt.show()"
   ]
  },
  {
   "cell_type": "code",
   "execution_count": 43,
   "metadata": {},
   "outputs": [
    {
     "data": {
      "image/png": "[encoded data removed]",
      "text/plain": [
       "<Figure size 432x288 with 1 Axes>"
      ]
     },
     "metadata": {
      "needs_background": "light"
     },
     "output_type": "display_data"
    }
   ],
   "source": [
    "fig = plt.figure()  # 创建画布\n",
    "ax = plt.subplot()  # 创建作图区域\n",
    "ax.boxplot([price_1])\n",
    "plt.show()"
   ]
  },
  {
   "cell_type": "code",
   "execution_count": 40,
   "metadata": {},
   "outputs": [
    {
     "data": {
      "text/plain": [
       "20.0    6940\n",
       "15.0    6066\n",
       "25.0    5805\n",
       "30.0    4951\n",
       "18.0    4883\n",
       "Name: price, dtype: int64"
      ]
     },
     "execution_count": 40,
     "metadata": {},
     "output_type": "execute_result"
    }
   ],
   "source": [
    "#用最高频值来填补缺失值\n",
    "wine['price'].value_counts().head()"
   ]
  },
  {
   "cell_type": "code",
   "execution_count": 41,
   "metadata": {},
   "outputs": [
    {
     "data": {
      "image/png": "[encoded data removed]",
      "text/plain": [
       "<Figure size 432x288 with 1 Axes>"
      ]
     },
     "metadata": {
      "needs_background": "light"
     },
     "output_type": "display_data"
    }
   ],
   "source": [
    "price_2 = wine['price'].fillna(value = 20.0)\n",
    "plt.hist(price_2, bins=20, normed=0, facecolor=\"blue\", edgecolor=\"black\", alpha=0.7)\n",
    "plt.xlabel(\"每瓶葡萄酒的价格\")\n",
    "plt.ylabel(\"频数/频率\")\n",
    "plt.title(\"频数/频率分布直方图\")\n",
    "plt.show()"
   ]
  },
  {
   "cell_type": "code",
   "execution_count": 51,
   "metadata": {},
   "outputs": [
    {
     "data": {
      "image/png": "[encoded data removed]",
      "text/plain": [
       "<Figure size 432x288 with 1 Axes>"
      ]
     },
     "metadata": {
      "needs_background": "light"
     },
     "output_type": "display_data"
    }
   ],
   "source": [
    "fig = plt.figure()  # 创建画布\n",
    "ax = plt.subplot()  # 创建作图区域\n",
    "ax.boxplot([price_2,price_0])                    #第2个盒子是未经处理的\n",
    "plt.show()"
   ]
  },
  {
   "cell_type": "code",
   "execution_count": null,
   "metadata": {},
   "outputs": [],
   "source": []
  }
 ],
 "metadata": {
  "kernelspec": {
   "display_name": "Python 3",
   "language": "python",
   "name": "python3"
  },
  "language_info": {
   "codemirror_mode": {
    "name": "ipython",
    "version": 3
   },
   "file_extension": ".py",
   "mimetype": "text/x-python",
   "name": "python",
   "nbconvert_exporter": "python",
   "pygments_lexer": "ipython3",
   "version": "3.7.1"
  }
 },
 "nbformat": 4,
 "nbformat_minor": 2
}
